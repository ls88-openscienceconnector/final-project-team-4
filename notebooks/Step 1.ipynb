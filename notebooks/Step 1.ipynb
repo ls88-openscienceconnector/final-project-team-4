{
 "cells": [
  {
   "cell_type": "markdown",
   "metadata": {},
   "source": [
    "## Final Project: Step 1"
   ]
  },
  {
   "cell_type": "markdown",
   "metadata": {},
   "source": [
    "What is the quality (you can use F.A.I.R) of the information?\n",
    "\n",
    "The quality of the data seems to be in accordance with FAIR principles. The data is easy to find as it is available on zenodo and has a unique DOI (digital object identifier) code which further implies its findability. Since the data is open access, allowing users to see both the raw data and the final results as well as the code used, it has very high accessibility as it is available to the public. It appears to be interoperable as the code is written in a python notebook which can easily be uploaded on a jupyterhub and worked on. The language used in explaining the data manipulations is very clear, further adding to the interoperable aspect of the data. In terms of reusability, the data has the Creative Commons Attribution 4.0 license making it easy to be reused and distributed. \n"
   ]
  },
  {
   "cell_type": "markdown",
   "metadata": {},
   "source": [
    "What is the provenance and collection method of the data?\n",
    "\n",
    "The data was obtained from Kaggle. There are two raw data sets, which are combined when results are being presented to produce the final, cleaned data set. The original data from Kaggle was collected by the Movie Database API, a reputable source. The collection method is based on the TMDb community, that collects and compiles data on various movies and along various metrics such as year released and genre. \n"
   ]
  },
  {
   "cell_type": "markdown",
   "metadata": {},
   "source": [
    "What are the hypotheses of the project?\n",
    "\n",
    "The null hypothesis is that there is no particular way to predict a movie’s outcome or success. The alternative hypothesis is that certain features such as genre, cast and production company can be used to predict whether a movie will be successful. "
   ]
  },
  {
   "cell_type": "markdown",
   "metadata": {},
   "source": [
    "What are the research methods?\n",
    "\n",
    "The research methods consist of wrangling the original datasets by joining the tables and using feature engineering to produce relevant columns. Certain columns were combined, and new metrics generated to allow for relevant variables to predict movie success. Ultimately, bar charts were produced to see which factors had the greatest impact in determining a movie’s success. \n"
   ]
  },
  {
   "cell_type": "markdown",
   "metadata": {},
   "source": [
    "What license is available?\n",
    "\n",
    "The license available is the Creative Commons Attribution 4.0 International.\n"
   ]
  },
  {
   "cell_type": "markdown",
   "metadata": {},
   "source": [
    "Can you open the project files?\n",
    "\n",
    "Yes, all the project files relating to the lab data are uploaded and can be opened. This includes the raw data, the cleaned dataset, the code and the final presentation.\n"
   ]
  },
  {
   "cell_type": "code",
   "execution_count": null,
   "metadata": {},
   "outputs": [],
   "source": []
  }
 ],
 "metadata": {
  "kernelspec": {
   "display_name": "Python 3",
   "language": "python",
   "name": "python3"
  },
  "language_info": {
   "codemirror_mode": {
    "name": "ipython",
    "version": 3
   },
   "file_extension": ".py",
   "mimetype": "text/x-python",
   "name": "python",
   "nbconvert_exporter": "python",
   "pygments_lexer": "ipython3",
   "version": "3.6.7"
  }
 },
 "nbformat": 4,
 "nbformat_minor": 2
}
